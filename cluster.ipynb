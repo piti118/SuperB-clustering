{
 "metadata": {
  "name": "cluster"
 }, 
 "nbformat": 2, 
 "worksheets": [
  {
   "cells": [
    {
     "cell_type": "code", 
     "collapsed": true, 
     "input": [
      "import csv", 
      "import numpy as np", 
      "from collections import defaultdict,OrderedDict", 
      "", 
      "from matplotlib.colors import *", 
      "from pylab import *", 
      "from matplotlib.widgets import Slider, Button, RadioButtons", 
      "import matplotlib.pyplot as plt", 
      "from math import *", 
      "from clusterlib import *"
     ], 
     "language": "python", 
     "outputs": [], 
     "prompt_number": 1
    }, 
    {
     "cell_type": "code", 
     "collapsed": true, 
     "input": [
      "class Clustering:", 
      "    seed_cutoff = 0.025 #25MeV default", 
      "    expand_cutoff = 0.005 #5MeV", 
      "    directions = [[-1,0],[0,-1],[1,0],[0,1]] #how cluster look around uldr", 
      "    def __init__(self):", 
      "        pass", 
      "    #return ordereddict of seed", 
      "    def find_seed(self,hitmap):", 
      "        hm=hitmap", 
      "        seedlist = zip(*np.where(hm>self.seed_cutoff))", 
      "        seedlist.sort(key=lambda x: hm[x])        ", 
      "        od = OrderedDict()", 
      "        for p in seedlist: ", 
      "            od[p] = hm[p]", 
      "        return od", 
      "    #return list of set of tuple of corrdinates", 
      "    #each set is one cluster", 
      "    #also note that seedod is passed by reference and will have it value change(empty upon return)", 
      "    def find_clusters(self,hitmap,seedod=None):", 
      "        hm = hitmap.hits", 
      "        #making seedlist put in ordered dict", 
      "        if seedod is None: seedod = self.find_seed(hm)", 
      "        clusters = []", 
      "        while len(seedod)!=0:", 
      "            seed,E = seedod.popitem()", 
      "            #print seed,E", 
      "            cluster_so_far = set()", 
      "            cluster_so_far.update([seed])", 
      "            this_cluster = self.expand_cluster(seed,hm,cluster_so_far,seed)", 
      "            #remove seed if seed in this cluster", 
      "            for hit_pos in this_cluster:", 
      "                if hit_pos in seedod: del seedod[hit_pos]", 
      "            clusters.append(this_cluster)", 
      "        return clusters", 
      "    ", 
      "    #recursively expand cluster from given seed", 
      "    #note that cluster_so_far is passed by reference and it acts as accumulator", 
      "    #last argument is the original seed from this cluster(for calculating upper cutoff)", 
      "    def expand_cluster(self,seed,hits,cluster_so_far,org_seed):", 
      "        #look in 4 direction", 
      "        for direction in self.directions:", 
      "            neighbor = self.add_direction(seed,direction)", 
      "            if neighbor not in cluster_so_far and self.passcut(neighbor,hits,org_seed):", 
      "                cluster_so_far.update([neighbor])", 
      "                self.expand_cluster(neighbor,hits,cluster_so_far,org_seed)", 
      "        return cluster_so_far", 
      "", 
      "    def add_direction(self,org,direc):", 
      "        return tuple([org[0]+direc[0],org[1]+direc[1]])", 
      "", 
      "    def passcut(self,pos,hits,org_seed):", 
      "        return hits[pos]>self.expand_cutoff"
     ], 
     "language": "python", 
     "outputs": [], 
     "prompt_number": 2
    }, 
    {
     "cell_type": "code", 
     "collapsed": false, 
     "input": [
      "hitmaps = [HitMap() for i in range(num_event)]", 
      "for x in v: hitmaps[x[event_index]].acc(x)", 
      "for c in hitmaps: c.compute_laplacian()"
     ], 
     "language": "python", 
     "outputs": [], 
     "prompt_number": 3
    }, 
    {
     "cell_type": "code", 
     "collapsed": true, 
     "input": [
      "class Visualizer:", 
      "    @classmethod", 
      "    def show_hits(self,hits, ax=None,cutoff=None):", 
      "        if ax is None: ax = gca()", 
      "        toshow = np.copy(hits)", 
      "        if(cutoff is not None):", 
      "            toshow[toshow<cutoff] = None", 
      "        img = ax.imshow(toshow,aspect='auto',interpolation='nearest',origin='lower')  ", 
      "        ax.set_xlim((barrel_theta_min,barrel_theta_max))", 
      "        ax.set_ylim((barrel_phi_min,barrel_phi_max))", 
      "        ax.grid(True,which='both')", 
      "        return ax,img", 
      "    ", 
      "    @classmethod", 
      "    def show_cluster(self,clusters,ax=None,hits=None):", 
      "        if ax is None: ax = gca()", 
      "        p=[]", 
      "        ", 
      "        for cluster in clusters:", 
      "            ", 
      "            cx,cy = zip(*cluster)", 
      "            #print cx,cy", 
      "            #yep y then x it's the way imshow works", 
      "            q = ax.plot(cy,cx,'o')", 
      "            p.append(q)", 
      "            if hits is not None:", 
      "                Ecl = HitMap.sumE_from_hits(hits,cluster)", 
      "                #print Ecl,cluster", 
      "                ax.annotate('%5.4f'%Ecl,xy=(cy[0],cx[0]))", 
      "        ax.set_xlim((barrel_theta_min,barrel_theta_max))", 
      "        ax.set_ylim((barrel_phi_min,barrel_phi_max))", 
      "        ax.grid(True)", 
      "        return ax,p", 
      "    @classmethod", 
      "    def show_seeds(self,seeds,hits, ax=None,cutoff=None):", 
      "        if ax is None: ax = gca()", 
      "        p=[]", 
      "        for seed in seeds:", 
      "            print seed", 
      "            q = ax.plot(seed[1],seed[0],'x')", 
      "            p.append(q)", 
      "        ax.set_xlim((barrel_theta_min,barrel_theta_max))", 
      "        ax.set_ylim((barrel_phi_min,barrel_phi_max))", 
      "        ax.grid(True,which='both')", 
      "        return ax,p", 
      "    ", 
      "    "
     ], 
     "language": "python", 
     "outputs": [], 
     "prompt_number": 4
    }, 
    {
     "cell_type": "code", 
     "collapsed": false, 
     "input": [
      "fig, axs = plt.subplots(3, 3, sharex=True, sharey=True)", 
      "fig.subplots_adjust(hspace=0.05,wspace=0.05)", 
      "num_row=3", 
      "num_col=3", 
      "raw_im = [None]*num_row", 
      "seed_im = [None]*num_row", 
      "cluster_im = [None]*num_row", 
      "clustering = Clustering()", 
      "for ax in axs[-1,:]: ax.set_xlabel('theta')", 
      "for ax in axs[:,0]: ax.set_ylabel('phi')", 
      "for i in range(num_row):", 
      "    hits = hitmaps[i].hits", 
      "    _,raw_im[i] = Visualizer.show_hits(hits,axs[i,0],cutoff=0.0005)", 
      "    seeds = clustering.find_seed(hits)", 
      "    Visualizer.show_seeds(seeds,hits,axs[i,1])", 
      "    cluster = clustering.find_clusters(hitmaps[i],seeds)", 
      "    Visualizer.show_cluster(cluster,axs[i,2],hits)"
     ], 
     "language": "python", 
     "outputs": [
      {
       "output_type": "stream", 
       "stream": "stdout", 
       "text": [
        "(79, 55)", 
        "(79, 56)", 
        "(102, 56)", 
        "(56, 48)"
       ]
      }, 
      {
       "output_type": "display_data", 
       "png": "[encoded data removed]"
      }
     ], 
     "prompt_number": 7
    }, 
    {
     "cell_type": "code", 
     "collapsed": false, 
     "input": [
      "?vectorize"
     ], 
     "language": "python", 
     "outputs": [], 
     "prompt_number": 6
    }, 
    {
     "cell_type": "code", 
     "collapsed": true, 
     "input": [
      "a =[ range(5)]*5"
     ], 
     "language": "python", 
     "outputs": [], 
     "prompt_number": 7
    }, 
    {
     "cell_type": "code", 
     "collapsed": false, 
     "input": [
      "a"
     ], 
     "language": "python", 
     "outputs": [
      {
       "output_type": "pyout", 
       "prompt_number": 8, 
       "text": [
        "[[0, 1, 2, 3, 4],", 
        " [0, 1, 2, 3, 4],", 
        " [0, 1, 2, 3, 4],", 
        " [0, 1, 2, 3, 4],", 
        " [0, 1, 2, 3, 4]]"
       ]
      }
     ], 
     "prompt_number": 8
    }, 
    {
     "cell_type": "code", 
     "collapsed": false, 
     "input": [
      "a[1,2]"
     ], 
     "language": "python", 
     "outputs": [
      {
       "ename": "TypeError", 
       "evalue": "list indices must be integers, not tuple", 
       "output_type": "pyerr", 
       "traceback": [
        "<span class=\"ansired\">---------------------------------------------------------------------------</span>\n<span class=\"ansired\">TypeError</span>                                 Traceback (most recent call last)", 
        "<span class=\"ansigreen\">/Users/piti/Desktop/cluster/&lt;ipython-input-9-082195c446c7&gt;</span> in <span class=\"ansicyan\">&lt;module&gt;</span><span class=\"ansiblue\">()</span>\n<span class=\"ansigreen\">----&gt; 1</span><span class=\"ansired\"> </span>a<span class=\"ansiblue\">[</span><span class=\"ansicyan\">1</span><span class=\"ansiblue\">,</span><span class=\"ansicyan\">2</span><span class=\"ansiblue\">]</span><span class=\"ansiblue\"></span>\n", 
        "<span class=\"ansired\">TypeError</span>: list indices must be integers, not tuple"
       ]
      }
     ], 
     "prompt_number": 9
    }, 
    {
     "cell_type": "code", 
     "collapsed": true, 
     "input": [], 
     "language": "python", 
     "outputs": [], 
     "prompt_number": "&nbsp;"
    }
   ]
  }
 ]
}